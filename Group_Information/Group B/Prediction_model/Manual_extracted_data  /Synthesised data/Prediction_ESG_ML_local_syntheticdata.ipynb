{
 "cells": [
  {
   "cell_type": "code",
   "execution_count": 38,
   "metadata": {},
   "outputs": [],
   "source": [
    "\n",
    "from sklearn.model_selection import train_test_split\n",
    "import pandas as pd\n",
    "import numpy as np\n",
    "from sklearn.ensemble import RandomForestRegressor, AdaBoostRegressor\n",
    "from sklearn.tree import DecisionTreeRegressor\n",
    "from sklearn.model_selection import GroupKFold\n",
    "from sklearn.metrics import mean_absolute_error\n",
    "from sklearn.impute import SimpleImputer\n",
    "from sklearn.pipeline import make_pipeline\n",
    "from sklearn.preprocessing import StandardScaler\n",
    "from sklearn.svm import SVR\n",
    "from sklearn.ensemble import GradientBoostingRegressor\n",
    "from xgboost import XGBRegressor\n",
    "from sklearn.neural_network import MLPRegressor\n",
    "\n",
    "import warnings\n",
    "warnings.filterwarnings('ignore')\n"
   ]
  },
  {
   "cell_type": "code",
   "execution_count": 39,
   "metadata": {},
   "outputs": [],
   "source": [
    "#  Loading storage data\n",
    "def load_data():\n",
    "    df = pd.read_csv(\"data3.csv\")\n",
    "    #df = pd.read_csv(\"data4.csv\")\n",
    "    # Renaming columns\n",
    "    column_mapping = {col: col.strip().lower().replace('&', 'and') for col in df.columns}\n",
    "    return df.rename(columns=column_mapping)"
   ]
  },
  {
   "cell_type": "code",
   "execution_count": 40,
   "metadata": {},
   "outputs": [],
   "source": [
    "#seperating the company name and number(year) from the column name \"Company\"\n",
    "def split_company_name_and_year(df):\n",
    "    df[['company', 'year']] = df['company'].str.extract(r'^(.*?)-(\\d{4})$')\n",
    "#extract year is after \"-\"\n"
   ]
  },
  {
   "cell_type": "code",
   "execution_count": 41,
   "metadata": {},
   "outputs": [],
   "source": [
    "# Advanced preprocessing\n",
    "def advanced_preprocessing(df):\n",
    "    df = df[df['esg_score'].notna()].copy()\n",
    "    df['year'] = pd.to_numeric(df['year'], errors='coerce')\n",
    "    \n",
    "    # Feature engineering of different year\n",
    "    df['years_active'] = df.groupby('company')['year'].transform(lambda x: x - x.min() + 1)\n",
    "    df['year_diff'] = df.groupby('company')['year'].transform(lambda x: x.diff().fillna(1))\n",
    "    \n",
    "    # Auto fill missing values\n",
    "    num_cols = df.select_dtypes(include=np.number).columns.tolist()\n",
    "    for col in num_cols:\n",
    "        df[col] = df.groupby('company')[col].transform(\n",
    "            lambda x: x.fillna(x.mean() if x.mean() > 0 else 0)\n",
    "        )\n",
    "    \n",
    "    return df"
   ]
  },
  {
   "cell_type": "code",
   "execution_count": 42,
   "metadata": {},
   "outputs": [],
   "source": [
    "# preapre data\n",
    "df = load_data()\n",
    "split_company_name_and_year(df)\n",
    "processed_df = advanced_preprocessing(df)\n",
    "\n",
    "# features engineering\n",
    "X = processed_df.drop(columns=['esg_score', 'company', 'year'])\n",
    "y = processed_df['esg_score']\n",
    "groups = processed_df['company']\n"
   ]
  },
  {
   "cell_type": "code",
   "execution_count": 43,
   "metadata": {},
   "outputs": [],
   "source": [
    "#calculate the average of each column \n",
    "def calculate_average(df):\n",
    "    return df.mean()\n",
    "\n",
    "# create more random data based on the average of the each column \n",
    "def create_random_data(df, num_samples=1000):\n",
    "    averages = calculate_average(df)\n",
    "    random_data = pd.DataFrame(np.random.normal(loc=averages, scale=0.1, size=(num_samples, len(averages))), columns=df.columns)\n",
    "    return random_data\n",
    "\n"
   ]
  },
  {
   "cell_type": "code",
   "execution_count": 44,
   "metadata": {},
   "outputs": [],
   "source": [
    "# Define the model\n",
    "models = {\n",
    "   \n",
    "'XGBoost1': make_pipeline(\n",
    "    SimpleImputer(strategy='mean'),\n",
    "    StandardScaler(),\n",
    "    XGBRegressor(\n",
    "        n_estimators=1000,\n",
    "        max_depth=2,\n",
    "        learning_rate=0.1,\n",
    "        random_state=42\n",
    "    )\n",
    "),\n",
    "\n",
    "}\n"
   ]
  },
  {
   "cell_type": "code",
   "execution_count": 45,
   "metadata": {},
   "outputs": [
    {
     "name": "stdout",
     "output_type": "stream",
     "text": [
      "Model evaluation：\n",
      "XGBoost1        | MAE: 1.54 ± 0.02\n"
     ]
    }
   ],
   "source": [
    "# Cross-validation\n",
    "gkf = GroupKFold(n_splits=3)\n",
    "print(\"Model evaluation：\")\n",
    "for name, model in models.items():\n",
    "    mae_scores = []\n",
    "    for train_idx, test_idx in gkf.split(X, y, groups):\n",
    "        X_train, X_test = X.iloc[train_idx], X.iloc[test_idx]\n",
    "        y_train, y_test = y.iloc[train_idx], y.iloc[test_idx]\n",
    "        \n",
    "        model.fit(X_train, y_train)\n",
    "        preds = model.predict(X_test)\n",
    "        mae_scores.append(mean_absolute_error(y_test, preds))\n",
    "    \n",
    "    print(f\"{name:15} | MAE: {np.mean(mae_scores):.2f} ± {np.std(mae_scores):.2f}\")"
   ]
  },
  {
   "cell_type": "code",
   "execution_count": 46,
   "metadata": {},
   "outputs": [
    {
     "name": "stdout",
     "output_type": "stream",
     "text": [
      "\n",
      "XGBoost Top 5：\n",
      "certification                    0.635102\n",
      "water_consumption_intensities    0.048207\n",
      "women_in_the_management_team     0.042299\n",
      "total_waste_generated            0.038474\n",
      "energy_consumption_intensitie    0.036471\n",
      "dtype: float32\n"
     ]
    }
   ],
   "source": [
    "# analysis of feature importance\n",
    "print(\"\\nXGBoost Top 5：\")\n",
    "rf_model = models['XGBoost1'].steps[2][1]\n",
    "importances = pd.Series(rf_model.feature_importances_, index=X.columns)\n",
    "print(importances.sort_values(ascending=False).head(5))\n"
   ]
  }
 ],
 "metadata": {
  "kernelspec": {
   "display_name": "Python 3",
   "language": "python",
   "name": "python3"
  },
  "language_info": {
   "codemirror_mode": {
    "name": "ipython",
    "version": 3
   },
   "file_extension": ".py",
   "mimetype": "text/x-python",
   "name": "python",
   "nbconvert_exporter": "python",
   "pygments_lexer": "ipython3",
   "version": "3.11.8"
  }
 },
 "nbformat": 4,
 "nbformat_minor": 2
}
